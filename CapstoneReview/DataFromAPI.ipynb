{
 "cells": [
  {
   "cell_type": "markdown",
   "metadata": {},
   "source": [
    "# Obtain product information from an unofficial H&M API"
   ]
  },
  {
   "cell_type": "markdown",
   "metadata": {},
   "source": [
    "In this script, using an unofficial H&M API, the product information is obtained and images associated with products are downloaded."
   ]
  },
  {
   "cell_type": "markdown",
   "metadata": {},
   "source": [
    "## Request from API"
   ]
  },
  {
   "cell_type": "code",
   "execution_count": 2,
   "metadata": {},
   "outputs": [],
   "source": [
    "import requests\n",
    "import json\n",
    "import pandas as pd"
   ]
  },
  {
   "cell_type": "code",
   "execution_count": 3,
   "metadata": {},
   "outputs": [
    {
     "name": "stdout",
     "output_type": "stream",
     "text": [
      "200\n"
     ]
    }
   ],
   "source": [
    "# The url of the API\n",
    "url = \"https://apidojo-hm-hennes-mauritz-v1.p.rapidapi.com/products/list\"\n",
    "# Select categories and other properties \n",
    "querystring = {\"categories\":\"men_all\",\"sortBy\":\"stock\",\"concepts\":\"H%26M MAN\",\"country\":\"us\",\"lang\":\"en\",\"currentpage\":\"0\",\"pagesize\":\"500\"}\n",
    "# Required for the API\n",
    "headers = {\n",
    "    'x-rapidapi-host': \"apidojo-hm-hennes-mauritz-v1.p.rapidapi.com\",\n",
    "    'x-rapidapi-key': \"bc101d99cbmsh24b997584c0d9acp162653jsn3348c552d885\"\n",
    "    }\n",
    "# Make a GET request using the headers and the query string\n",
    "response = requests.request(\"GET\", url, headers=headers, params=querystring)\n",
    "# Display status code\n",
    "print(response.status_code)"
   ]
  },
  {
   "cell_type": "markdown",
   "metadata": {},
   "source": [
    "## Convert data into a more convenient format"
   ]
  },
  {
   "cell_type": "code",
   "execution_count": 102,
   "metadata": {},
   "outputs": [],
   "source": [
    "# Convert the response to json format\n",
    "data = response.json()"
   ]
  },
  {
   "cell_type": "code",
   "execution_count": 108,
   "metadata": {
    "scrolled": true
   },
   "outputs": [
    {
     "data": {
      "text/plain": [
       "358"
      ]
     },
     "execution_count": 108,
     "metadata": {},
     "output_type": "execute_result"
    }
   ],
   "source": [
    "# Check the length of the data\n",
    "len(data['results'])"
   ]
  },
  {
   "cell_type": "code",
   "execution_count": 105,
   "metadata": {},
   "outputs": [
    {
     "data": {
      "text/plain": [
       "dict_keys(['results', 'pagination', 'facets', 'freeTextSearch', 'categoryCode', 'baseUrl'])"
      ]
     },
     "execution_count": 105,
     "metadata": {},
     "output_type": "execute_result"
    }
   ],
   "source": [
    "# Obtain the keys\n",
    "data.keys()"
   ]
  },
  {
   "cell_type": "code",
   "execution_count": 106,
   "metadata": {},
   "outputs": [
    {
     "data": {
      "text/plain": [
       "{'code': '0739239_group_010',\n",
       " 'name': 'Skinny Fit Suit Pants',\n",
       " 'stock': {'stockLevel': 1},\n",
       " 'price': {'currencyIso': 'USD',\n",
       "  'value': 19.99,\n",
       "  'priceType': 'BUY',\n",
       "  'formattedValue': '$ 19.99',\n",
       "  'type': 'WHITE'},\n",
       " 'images': [{'url': 'https://lp2.hm.com/hmgoepprod?set=source[/b4/49/b449c5167a1d15175f9d4d727a3be6d10416f6e1.jpg],origin[dam],category[men_trousers_trousers_skinny_all],type[DESCRIPTIVESTILLLIFE],res[m],hmver[1]&call=url[file:/product/style]'}],\n",
       " 'categories': [],\n",
       " 'whitePrice': {'currencyIso': 'USD',\n",
       "  'value': 19.99,\n",
       "  'priceType': 'BUY',\n",
       "  'formattedValue': '$ 19.99',\n",
       "  'type': 'WHITE'},\n",
       " 'articles': [{'code': '0739239010',\n",
       "   'name': 'Skinny Fit Suit Pants',\n",
       "   'images': [{'url': 'https://lp2.hm.com/hmgoepprod?set=source[/b4/49/b449c5167a1d15175f9d4d727a3be6d10416f6e1.jpg],origin[dam],category[men_trousers_trousers_skinny_all],type[DESCRIPTIVESTILLLIFE],res[m],hmver[1]&call=url[file:/product/style]'}],\n",
       "   'whitePrice': {'currencyIso': 'USD',\n",
       "    'value': 19.99,\n",
       "    'priceType': 'BUY',\n",
       "    'formattedValue': '$ 19.99',\n",
       "    'type': 'WHITE'},\n",
       "   'logoPicture': [{'url': 'https://lp2.hm.com/hmgoepprod?set=source[/12/d1/12d1aa6c8b8a5fbbb479256846ac7fad5756802f.jpg],origin[dam],category[men_trousers_trousers_skinny_all],type[LOOKBOOK],res[m],hmver[1]&call=url[file:/product/main]'}],\n",
       "   'normalPicture': [{'url': 'https://lp2.hm.com/hmgoepprod?set=source[/12/d1/12d1aa6c8b8a5fbbb479256846ac7fad5756802f.jpg],origin[dam],category[men_trousers_trousers_skinny_all],type[LOOKBOOK],res[m],hmver[1]&call=url[file:/product/main]'}],\n",
       "   'visible': False,\n",
       "   'numbersOfPieces': 0,\n",
       "   'ticket': 'Oy9wbHAvcHJvZHVjdC1saXN0LXdpdGgtY291bnQvcHJvZHVjdC1saXN0OyM7cHJvZHVjdF9rZXk7MDczOTIzOV9ncm91cF8wMTBfZW5fdXM7MDczOTIzOTAxMF9lbl91cztPQkpFQ1RJVkUkO05PTkU6Tk9ORTsxNjs',\n",
       "   'dummy': False,\n",
       "   'ecoTaxValue': 0.0,\n",
       "   'redirectToPdp': False,\n",
       "   'comingSoon': False,\n",
       "   'color': {'code': '0000FF',\n",
       "    'text': 'Dark blue',\n",
       "    'filterName': 'Blue_0000FF',\n",
       "    'hybrisCode': '73'},\n",
       "   'rgbColor': '#343649',\n",
       "   'genArticle': '739239010202'}],\n",
       " 'visible': False,\n",
       " 'concept': ['H&M MAN'],\n",
       " 'numbersOfPieces': 0,\n",
       " 'defaultArticle': {'code': '0739239010',\n",
       "  'name': 'Skinny Fit Suit Pants',\n",
       "  'images': [{'url': 'https://lp2.hm.com/hmgoepprod?set=source[/b4/49/b449c5167a1d15175f9d4d727a3be6d10416f6e1.jpg],origin[dam],category[men_trousers_trousers_skinny_all],type[DESCRIPTIVESTILLLIFE],res[m],hmver[1]&call=url[file:/product/style]'}],\n",
       "  'whitePrice': {'currencyIso': 'USD',\n",
       "   'value': 19.99,\n",
       "   'priceType': 'BUY',\n",
       "   'formattedValue': '$ 19.99',\n",
       "   'type': 'WHITE'},\n",
       "  'logoPicture': [{'url': 'https://lp2.hm.com/hmgoepprod?set=source[/12/d1/12d1aa6c8b8a5fbbb479256846ac7fad5756802f.jpg],origin[dam],category[men_trousers_trousers_skinny_all],type[LOOKBOOK],res[m],hmver[1]&call=url[file:/product/main]'}],\n",
       "  'normalPicture': [{'url': 'https://lp2.hm.com/hmgoepprod?set=source[/12/d1/12d1aa6c8b8a5fbbb479256846ac7fad5756802f.jpg],origin[dam],category[men_trousers_trousers_skinny_all],type[LOOKBOOK],res[m],hmver[1]&call=url[file:/product/main]'}],\n",
       "  'visible': False,\n",
       "  'numbersOfPieces': 0,\n",
       "  'ticket': 'Oy9wbHAvcHJvZHVjdC1saXN0LXdpdGgtY291bnQvcHJvZHVjdC1saXN0OyM7cHJvZHVjdF9rZXk7MDczOTIzOV9ncm91cF8wMTBfZW5fdXM7MDczOTIzOTAxMF9lbl91cztPQkpFQ1RJVkUkO05PTkU6Tk9ORTsxNjs',\n",
       "  'dummy': False,\n",
       "  'ecoTaxValue': 0.0,\n",
       "  'redirectToPdp': False,\n",
       "  'comingSoon': False,\n",
       "  'color': {'code': '0000FF',\n",
       "   'text': 'Dark blue',\n",
       "   'filterName': 'Blue_0000FF',\n",
       "   'hybrisCode': '73'},\n",
       "  'rgbColor': '#343649',\n",
       "  'genArticle': '739239010202'},\n",
       " 'sale': False,\n",
       " 'variantSizes': [{'orderFilter': 306, 'filterCode': 'L'},\n",
       "  {'orderFilter': 305, 'filterCode': 'M'},\n",
       "  {'orderFilter': 302, 'filterCode': 'S'},\n",
       "  {'orderFilter': 312, 'filterCode': '2XL'},\n",
       "  {'orderFilter': 308, 'filterCode': 'XL'}],\n",
       " 'swatches': [],\n",
       " 'articleCodes': ['0739239001', '0739239010'],\n",
       " 'ticket': 'Oy9wbHAvcHJvZHVjdC1saXN0LXdpdGgtY291bnQvcHJvZHVjdC1saXN0OyM7cHJvZHVjdF9rZXk7MDczOTIzOV9ncm91cF8wMTBfZW5fdXM7MDczOTIzOTAxMF9lbl91cztPQkpFQ1RJVkUkO05PTkU6Tk9ORTsxNjs',\n",
       " 'searchEngineProductId': '0739239_group_010_en_us',\n",
       " 'dummy': False,\n",
       " 'linkPdp': '/en_us/productpage.0739239010.html',\n",
       " 'categoryName': 'Men',\n",
       " 'rgbColors': ['#272628', '#343649'],\n",
       " 'articleColorNames': ['Black', 'Dark blue'],\n",
       " 'ecoTaxValue': 0.0,\n",
       " 'swatchesTotal': 2,\n",
       " 'showPriceMarker': True,\n",
       " 'redirectToPdp': False,\n",
       " 'mainCategoryCode': 'men_trousers_trousers_skinny_all',\n",
       " 'comingSoon': False}"
      ]
     },
     "execution_count": 106,
     "metadata": {},
     "output_type": "execute_result"
    }
   ],
   "source": [
    "# Check the first entry to identify data we want to obtain\n",
    "data['results'][0]"
   ]
  },
  {
   "cell_type": "markdown",
   "metadata": {},
   "source": [
    "## Assign values to a data frame"
   ]
  },
  {
   "cell_type": "code",
   "execution_count": 109,
   "metadata": {},
   "outputs": [],
   "source": [
    "# Create a pandas data frame\n",
    "df = pd.DataFrame()\n",
    "\n",
    "# Obtain necessary data from json to fill in the data frame\n",
    "# Product ID\n",
    "df[\"ProductID\"] = [d['articles'][0]['code'] for d in data['results']]\n",
    "\n",
    "# Product Name\n",
    "df[\"ProductName\"] = [d['name'] for d in data['results']]\n",
    "\n",
    "# Product Price\n",
    "df[\"ProductPrice\"] = [float(d['price']['value']) for d in data['results']]\n",
    "\n",
    "# Product Color\n",
    "df[\"ProductColor\"] = [\", \".join(d['articleColorNames']) for d in data['results']]\n",
    "\n",
    "# Image Url\n",
    "df[\"ImageUrl\"] = [d['images'][0]['url'] for d in data['results']]\n",
    "\n",
    "# Product url\n",
    "df[\"baseUrl\"] = [data['baseUrl']+d['linkPdp'] for d in data['results']]"
   ]
  },
  {
   "cell_type": "code",
   "execution_count": 110,
   "metadata": {},
   "outputs": [
    {
     "data": {
      "text/html": [
       "<div>\n",
       "<style scoped>\n",
       "    .dataframe tbody tr th:only-of-type {\n",
       "        vertical-align: middle;\n",
       "    }\n",
       "\n",
       "    .dataframe tbody tr th {\n",
       "        vertical-align: top;\n",
       "    }\n",
       "\n",
       "    .dataframe thead th {\n",
       "        text-align: right;\n",
       "    }\n",
       "</style>\n",
       "<table border=\"1\" class=\"dataframe\">\n",
       "  <thead>\n",
       "    <tr style=\"text-align: right;\">\n",
       "      <th></th>\n",
       "      <th>ProductID</th>\n",
       "      <th>ProductName</th>\n",
       "      <th>ProductPrice</th>\n",
       "      <th>ProductColor</th>\n",
       "      <th>ImageUrl</th>\n",
       "      <th>baseUrl</th>\n",
       "    </tr>\n",
       "  </thead>\n",
       "  <tbody>\n",
       "    <tr>\n",
       "      <th>0</th>\n",
       "      <td>0739239010</td>\n",
       "      <td>Skinny Fit Suit Pants</td>\n",
       "      <td>19.99</td>\n",
       "      <td>Black, Dark blue</td>\n",
       "      <td>https://lp2.hm.com/hmgoepprod?set=source[/b4/4...</td>\n",
       "      <td>https://www2.hm.com/en_us/productpage.07392390...</td>\n",
       "    </tr>\n",
       "    <tr>\n",
       "      <th>1</th>\n",
       "      <td>0817752001</td>\n",
       "      <td>Skinny Fit Blazer</td>\n",
       "      <td>39.99</td>\n",
       "      <td>Dark blue</td>\n",
       "      <td>https://lp2.hm.com/hmgoepprod?set=source[/a6/0...</td>\n",
       "      <td>https://www2.hm.com/en_us/productpage.08177520...</td>\n",
       "    </tr>\n",
       "    <tr>\n",
       "      <th>2</th>\n",
       "      <td>0891007001</td>\n",
       "      <td>1/4-Zip Polo Shirt</td>\n",
       "      <td>14.99</td>\n",
       "      <td>Dark blue, Natural white</td>\n",
       "      <td>https://lp2.hm.com/hmgoepprod?set=source[/5d/7...</td>\n",
       "      <td>https://www2.hm.com/en_us/productpage.08910070...</td>\n",
       "    </tr>\n",
       "    <tr>\n",
       "      <th>3</th>\n",
       "      <td>0880881002</td>\n",
       "      <td>Checked Shirt Jacket</td>\n",
       "      <td>34.99</td>\n",
       "      <td>Beige/checked, Black/gray plaid</td>\n",
       "      <td>https://lp2.hm.com/hmgoepprod?set=source[/44/9...</td>\n",
       "      <td>https://www2.hm.com/en_us/productpage.08808810...</td>\n",
       "    </tr>\n",
       "    <tr>\n",
       "      <th>4</th>\n",
       "      <td>0863753003</td>\n",
       "      <td>Fine-knit Polo Shirt</td>\n",
       "      <td>17.99</td>\n",
       "      <td>Brown, Dark blue, Sage green, Beige melange</td>\n",
       "      <td>https://lp2.hm.com/hmgoepprod?set=source[/69/6...</td>\n",
       "      <td>https://www2.hm.com/en_us/productpage.08637530...</td>\n",
       "    </tr>\n",
       "    <tr>\n",
       "      <th>...</th>\n",
       "      <td>...</td>\n",
       "      <td>...</td>\n",
       "      <td>...</td>\n",
       "      <td>...</td>\n",
       "      <td>...</td>\n",
       "      <td>...</td>\n",
       "    </tr>\n",
       "    <tr>\n",
       "      <th>353</th>\n",
       "      <td>0474471001</td>\n",
       "      <td>Twill Shorts</td>\n",
       "      <td>19.99</td>\n",
       "      <td>Black</td>\n",
       "      <td>https://lp2.hm.com/hmgoepprod?set=source[/8e/8...</td>\n",
       "      <td>https://www2.hm.com/en_us/productpage.04744710...</td>\n",
       "    </tr>\n",
       "    <tr>\n",
       "      <th>354</th>\n",
       "      <td>0368300022</td>\n",
       "      <td>Cotton Shorts</td>\n",
       "      <td>17.99</td>\n",
       "      <td>Red, Light yellow</td>\n",
       "      <td>https://lp2.hm.com/hmgoepprod?set=source[/b1/b...</td>\n",
       "      <td>https://www2.hm.com/en_us/productpage.03683000...</td>\n",
       "    </tr>\n",
       "    <tr>\n",
       "      <th>355</th>\n",
       "      <td>0722475022</td>\n",
       "      <td>Slim Fit Easy-iron Shirt</td>\n",
       "      <td>14.99</td>\n",
       "      <td>White, Light blue melange, Dark blue/white dot...</td>\n",
       "      <td>https://lp2.hm.com/hmgoepprod?set=source[/85/e...</td>\n",
       "      <td>https://www2.hm.com/en_us/productpage.07224750...</td>\n",
       "    </tr>\n",
       "    <tr>\n",
       "      <th>356</th>\n",
       "      <td>0826689001</td>\n",
       "      <td>Hooded Down Jacket</td>\n",
       "      <td>209.00</td>\n",
       "      <td>Black</td>\n",
       "      <td>https://lp2.hm.com/hmgoepprod?set=source[/81/4...</td>\n",
       "      <td>https://www2.hm.com/en_us/productpage.08266890...</td>\n",
       "    </tr>\n",
       "    <tr>\n",
       "      <th>357</th>\n",
       "      <td>0633250005</td>\n",
       "      <td>Skinny Fit Suit Pants</td>\n",
       "      <td>34.99</td>\n",
       "      <td>Blue/chambray</td>\n",
       "      <td>https://lp2.hm.com/hmgoepprod?set=source[/d6/6...</td>\n",
       "      <td>https://www2.hm.com/en_us/productpage.06332500...</td>\n",
       "    </tr>\n",
       "  </tbody>\n",
       "</table>\n",
       "<p>358 rows × 6 columns</p>\n",
       "</div>"
      ],
      "text/plain": [
       "      ProductID               ProductName  ProductPrice  \\\n",
       "0    0739239010     Skinny Fit Suit Pants         19.99   \n",
       "1    0817752001         Skinny Fit Blazer         39.99   \n",
       "2    0891007001        1/4-Zip Polo Shirt         14.99   \n",
       "3    0880881002      Checked Shirt Jacket         34.99   \n",
       "4    0863753003      Fine-knit Polo Shirt         17.99   \n",
       "..          ...                       ...           ...   \n",
       "353  0474471001              Twill Shorts         19.99   \n",
       "354  0368300022             Cotton Shorts         17.99   \n",
       "355  0722475022  Slim Fit Easy-iron Shirt         14.99   \n",
       "356  0826689001        Hooded Down Jacket        209.00   \n",
       "357  0633250005     Skinny Fit Suit Pants         34.99   \n",
       "\n",
       "                                          ProductColor  \\\n",
       "0                                     Black, Dark blue   \n",
       "1                                            Dark blue   \n",
       "2                             Dark blue, Natural white   \n",
       "3                      Beige/checked, Black/gray plaid   \n",
       "4          Brown, Dark blue, Sage green, Beige melange   \n",
       "..                                                 ...   \n",
       "353                                              Black   \n",
       "354                                  Red, Light yellow   \n",
       "355  White, Light blue melange, Dark blue/white dot...   \n",
       "356                                              Black   \n",
       "357                                      Blue/chambray   \n",
       "\n",
       "                                              ImageUrl  \\\n",
       "0    https://lp2.hm.com/hmgoepprod?set=source[/b4/4...   \n",
       "1    https://lp2.hm.com/hmgoepprod?set=source[/a6/0...   \n",
       "2    https://lp2.hm.com/hmgoepprod?set=source[/5d/7...   \n",
       "3    https://lp2.hm.com/hmgoepprod?set=source[/44/9...   \n",
       "4    https://lp2.hm.com/hmgoepprod?set=source[/69/6...   \n",
       "..                                                 ...   \n",
       "353  https://lp2.hm.com/hmgoepprod?set=source[/8e/8...   \n",
       "354  https://lp2.hm.com/hmgoepprod?set=source[/b1/b...   \n",
       "355  https://lp2.hm.com/hmgoepprod?set=source[/85/e...   \n",
       "356  https://lp2.hm.com/hmgoepprod?set=source[/81/4...   \n",
       "357  https://lp2.hm.com/hmgoepprod?set=source[/d6/6...   \n",
       "\n",
       "                                               baseUrl  \n",
       "0    https://www2.hm.com/en_us/productpage.07392390...  \n",
       "1    https://www2.hm.com/en_us/productpage.08177520...  \n",
       "2    https://www2.hm.com/en_us/productpage.08910070...  \n",
       "3    https://www2.hm.com/en_us/productpage.08808810...  \n",
       "4    https://www2.hm.com/en_us/productpage.08637530...  \n",
       "..                                                 ...  \n",
       "353  https://www2.hm.com/en_us/productpage.04744710...  \n",
       "354  https://www2.hm.com/en_us/productpage.03683000...  \n",
       "355  https://www2.hm.com/en_us/productpage.07224750...  \n",
       "356  https://www2.hm.com/en_us/productpage.08266890...  \n",
       "357  https://www2.hm.com/en_us/productpage.06332500...  \n",
       "\n",
       "[358 rows x 6 columns]"
      ]
     },
     "execution_count": 110,
     "metadata": {},
     "output_type": "execute_result"
    }
   ],
   "source": [
    "# Check the results\n",
    "df"
   ]
  },
  {
   "cell_type": "code",
   "execution_count": 114,
   "metadata": {},
   "outputs": [],
   "source": [
    "# Convert the results into a csv file\n",
    "df.to_csv(\"hm_men_all_stock_H%26M MAN_us_en_0_500.csv\",index=False)"
   ]
  },
  {
   "cell_type": "markdown",
   "metadata": {},
   "source": [
    "## Download images"
   ]
  },
  {
   "cell_type": "code",
   "execution_count": 113,
   "metadata": {},
   "outputs": [],
   "source": [
    "# Download images to local folder\n",
    "for ind, row in df.iterrows():\n",
    "    r = requests.get(row[\"ImageUrl\"])\n",
    "    if (r.status_code==200):\n",
    "        with open(row[\"ProductID\"] + \".jpg\", \"wb\") as file:\n",
    "            file.write(r.content)\n",
    "    else:\n",
    "        print(ind,r.status_code)"
   ]
  }
 ],
 "metadata": {
  "kernelspec": {
   "display_name": "Python 3",
   "language": "python",
   "name": "python3"
  },
  "language_info": {
   "codemirror_mode": {
    "name": "ipython",
    "version": 3
   },
   "file_extension": ".py",
   "mimetype": "text/x-python",
   "name": "python",
   "nbconvert_exporter": "python",
   "pygments_lexer": "ipython3",
   "version": "3.7.7"
  }
 },
 "nbformat": 4,
 "nbformat_minor": 4
}
